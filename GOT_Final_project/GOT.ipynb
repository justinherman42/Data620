{
 "cells": [
  {
   "cell_type": "code",
   "execution_count": 1,
   "metadata": {},
   "outputs": [],
   "source": [
    "import pandas as pd \n",
    "import nltk\n",
    "from pathlib import Path\n",
    "import re\n",
    "import string\n",
    "import requests\n",
    "from nltk import sent_tokenize\n",
    "\n"
   ]
  },
  {
   "cell_type": "markdown",
   "metadata": {},
   "source": [
    "## Introduction\n",
    "\n",
    " \n",
    " For this project we are going to use NLP and network grpahs to analyze the Game Of Thrones books.  All book files have been uploaded to github here: https://github.com/justinherman42/Data620/tree/master/GOT_Final_project/textfiles\n",
    " \n",
    " The text files were edited by hand. The books are ordered in chronological order.  We verified the first and last sentences via https://bookatlas.wordpress.com/books-a-z/ .  The website displays the first and last sentence of all of the books.  "
   ]
  },
  {
   "cell_type": "code",
   "execution_count": 9,
   "metadata": {},
   "outputs": [],
   "source": [
    "def clean_text(text_file):    \n",
    "    '''\n",
    "    Reads in text file from GITHUB gets rid of newline and special characters\n",
    "    '''\n",
    "    \n",
    "    url = 'https://raw.githubusercontent.com/justinherman42/Data620/master/GOT_Final_project/textfiles/'+text_file\n",
    "    page = requests.get(url)\n",
    "    text=page.text\n",
    "    data = text.replace('\\r', ' ').replace('\\n', ' ').replace(\"\\'\", \"'\")   \n",
    "    novel=''\n",
    "    novel += ' ' + data\n",
    "    novel = novel.replace('. . .',';')\n",
    "    return (novel)\n",
    "\n"
   ]
  },
  {
   "cell_type": "markdown",
   "metadata": {},
   "source": [
    "## Store text in dictionary\n",
    "+ Built out dictionary with untokenized data in case you want to look at it\n",
    "+ All I really saw in terms of issues was '...' being frequently used in the books.  Obviously this messed with the tokenizer, so i replaced it with  ; in the clean text function above.  "
   ]
  },
  {
   "cell_type": "code",
   "execution_count": 10,
   "metadata": {},
   "outputs": [],
   "source": [
    "\n",
    "## build out names for text file URL's\n",
    "git_text_file_names=['got1.txt','got2.txt','got3.txt','got4.txt','got5.txt']\n",
    "\n",
    "## Built out dictionary with untokenized data in case you want to look at it\n",
    "## All I really saw in terms of issues was ... being frequently used which I substituted with ;\n",
    "\n",
    "book_series_untokenized={}\n",
    "for i,x in enumerate(git_text_file_names):\n",
    "    book_series_untokenized[\"book{}\".format(i)]=clean_text(x)\n",
    "\n",
    "## built out dictionary with tokenized data\n",
    "book_series={}\n",
    "for i,x in enumerate(git_text_file_names):\n",
    "    orig_text=clean_text(x)\n",
    "    sentence_list = sent_tokenize(orig_text)\n",
    "    book_series[\"book{}\".format(i+1)]= sentence_list\n",
    "\n"
   ]
  },
  {
   "cell_type": "code",
   "execution_count": 11,
   "metadata": {},
   "outputs": [
    {
     "data": {
      "text/plain": [
       "list"
      ]
     },
     "execution_count": 11,
     "metadata": {},
     "output_type": "execute_result"
    }
   ],
   "source": [
    "type(book_series[\"book1\"])"
   ]
  },
  {
   "cell_type": "code",
   "execution_count": 12,
   "metadata": {},
   "outputs": [
    {
     "data": {
      "text/plain": [
       "['Dusky dogs and Dornishmen, pig boys, cripples, cretins, and now a black-clad whale.',\n",
       " 'And here I thought leviathans were grey.” A half cape striped in green and gold draped one shoulder.',\n",
       " 'He was very handsome, though his eyes were sly and his mouth cruel.',\n",
       " 'Sam knew him.',\n",
       " '“Leo Tyrell.” Saying the name made him feel as if he were still a boy of seven, about to wet his smallclothes.',\n",
       " '“I am Sam, from Horn Hill.',\n",
       " 'Lord Randyll Tarly’s son.”  “Truly?” Leo gave him another look.',\n",
       " '“I suppose you are.',\n",
       " 'Your father told us all that you were dead.',\n",
       " 'Or was it only that he wished you were?” He grinned.',\n",
       " '“Are you still a craven?”  “No,” lied Sam.',\n",
       " 'Jon had made it a command.',\n",
       " '“I went beyond the Wall and fought in battles.',\n",
       " 'They call me Sam the Slayer.” He did not know why he said it.',\n",
       " 'The words just tumbled out.',\n",
       " 'Leo laughed, but before he could reply the door behind him opened.',\n",
       " '“Get in here, Slayer,” growled the man in the doorway.',\n",
       " '“And you, Sphinx.',\n",
       " 'Now.”  “Sam,” said Alleras, “this is Archmaester Marwyn.”  Marwyn wore a chain of many metals around his bull’s neck.',\n",
       " 'Save for that, he looked more like a dockside thug than a maester.',\n",
       " 'His head was too big for his body, and the way it thrust forward from his shoulders, together with that slab of jaw, made him look as if he were about to tear off someone’s head.',\n",
       " 'Though short and squat, he was heavy in the chest and shoulders, with a round, rock-hard ale belly straining at the laces of the leather jerkin he wore in place of robes.',\n",
       " 'Bristly white hair sprouted from his ears and nostrils.',\n",
       " 'His brow beetled, his nose had been broken more than once, and sourleaf had stained his teeth a mottled red.',\n",
       " 'He had the biggest hands that Sam had ever seen.',\n",
       " 'When Sam hesitated, one of those hands grabbed him by the arm and yanked him through the door.',\n",
       " 'The room beyond was large and round.',\n",
       " 'Books and scrolls were everywhere, strewn across the tables and stacked up on the floor in piles four feet high.',\n",
       " 'Faded tapestries and ragged maps covered the stone walls.',\n",
       " 'A fire was burning in the hearth, beneath a copper kettle.',\n",
       " 'Whatever was inside of it smelled burned.',\n",
       " 'Aside from that, the only light came from a tall black candle in the center of the room.',\n",
       " 'The candle was unpleasantly bright.',\n",
       " 'There was something queer about it.',\n",
       " 'The flame did not flicker, even when Archmaester Marwyn closed the door so hard that papers blew off a nearby table.',\n",
       " 'The light did something strange to colors too.',\n",
       " 'Whites were bright as fresh-fallen snow, yellow shone like gold, reds turned to flame, but the shadows were so black they looked like holes in the world.',\n",
       " 'Sam found himself staring.',\n",
       " 'The candle itself was three feet tall and slender as a sword, ridged and twisted, glittering black.',\n",
       " '“Is that ; ?”  “; obsidian,” said the other man in the room, a pale, fleshy, pasty-faced young fellow with round shoulders, soft hands, close-set eyes, and food stains on his robes.',\n",
       " '“Call it dragonglass.” Archmaester Marwyn glanced at the candle for a moment.',\n",
       " '“It burns but is not consumed.”  “What feeds the flame?” asked Sam.',\n",
       " '“What feeds a dragon’s fire?” Marwyn seated himself upon a stool.',\n",
       " '“All Valyrian sorcery was rooted in blood or fire.',\n",
       " 'The sorcerers of the Freehold could see across mountains, seas, and deserts with one of these glass candles.',\n",
       " 'They could enter a man’s dreams and give him visions, and speak to one another half a world apart, seated before their candles.',\n",
       " 'Do you think that might be useful, Slayer?”  “We would have no more need of ravens.”  “Only after battles.” The archmaester peeled a sourleaf off a bale, shoved it in his mouth, and began to chew it.',\n",
       " '“Tell me all you told our Dornish sphinx.',\n",
       " 'I know much of it and more, but some small parts may have escaped my notice.”  He was not a man to be refused.',\n",
       " 'Sam hesitated a moment, then told his tale again as Marywn, Alleras, and the other novice listened.',\n",
       " '“Maester Aemon believed that Daenerys Targaryen was the fulfillment of a prophecy ; her, not Stannis, nor Prince Rhaegar, nor the princeling whose head was dashed against the wall.”  “Born amidst salt and smoke, beneath a bleeding star.',\n",
       " 'I know the prophecy.” Marwyn turned his head and spat a gob of red phlegm onto the floor.',\n",
       " '“Not that I would trust it.',\n",
       " 'Gorghan of Old Ghis once wrote that a prophecy is like a treacherous woman.',\n",
       " 'She takes your member in her mouth, and you moan with the pleasure of it and think, how sweet, how fine, how good this is ; and then her teeth snap shut and your moans turn to screams.',\n",
       " 'That is the nature of prophecy, said Gorghan.',\n",
       " 'Prophecy will bite your prick off every time.” He chewed a bit.',\n",
       " '“Still ;”  Alleras stepped up next to Sam.',\n",
       " '“Aemon would have gone to her if he had the strength.',\n",
       " 'He wanted us to send a maester to her, to counsel her and protect her and fetch her safely home.”  “Did he?” Archmaester Marwyn shrugged.',\n",
       " '“Perhaps it’s good that he died before he got to Oldtown.',\n",
       " 'Elsewise the grey sheep might have had to kill him, and that would have made the poor old dears wring their wrinkled hands.”  “Kill him?” Sam said, shocked.',\n",
       " '“Why?”  “If I tell you, they may need to kill you too.” Marywn smiled a ghastly smile, the juice of the sourleaf running red between his teeth.',\n",
       " '“Who do you think killed all the dragons the last time around?',\n",
       " 'Gallant dragonslayers armed with swords?” He spat.',\n",
       " '“The world the Citadel is building has no place in it for sorcery or prophecy or glass candles, much less for dragons.',\n",
       " 'Ask yourself why Aemon Targaryen was allowed to waste his life upon the Wall, when by rights he should have been raised to archmaester.',\n",
       " 'His blood was why.',\n",
       " 'He could not be trusted.',\n",
       " 'No more than I can.”  “What will you do?” asked Alleras, the Sphinx.',\n",
       " '“Get myself to Slaver’s Bay, in Aemon’s place.',\n",
       " 'The swan ship that delivered Slayer should serve my needs well enough.',\n",
       " 'The grey sheep will send their man on a galley, I don’t doubt.',\n",
       " 'With fair winds I should reach her first.” Marwyn glanced at Sam again, and frowned.',\n",
       " '“You ; you should stay and forge your chain.',\n",
       " 'If I were you, I would do it quickly.',\n",
       " 'A time will come when you’ll be needed on the Wall.” He turned to the pasty-faced novice.',\n",
       " '“Find Slayer a dry cell.',\n",
       " 'He’ll sleep here, and help you tend the ravens.”  “B-b-but,” Sam sputtered, “the other archmaesters ; the Seneschal ; what should I tell them?”  “Tell them how wise and good they are.',\n",
       " 'Tell them that Aemon commanded you to put yourself into their hands.',\n",
       " 'Tell them that you have always dreamed that one day you might be allowed to wear the chain and serve the greater good, that service is the highest honor, and obedience the highest virtue.',\n",
       " 'But say nothing of prophecies or dragons, unless you fancy poison in your porridge.” Marwyn snatched a stained leather cloak off a peg near the door and tied it tight.',\n",
       " '“Sphinx, look after this one.”  “I will,” Alleras answered, but the archmaester was already gone.',\n",
       " 'They heard his boots stomping down the steps.',\n",
       " '“Where has he gone?” asked Sam, bewildered.',\n",
       " '“To the docks.',\n",
       " 'The Mage is not a man who believes in wasting time.” Alleras smiled.',\n",
       " '“I have a confession.',\n",
       " 'Ours was no chance encounter, Sam.',\n",
       " 'The Mage sent me to snatch you up before you spoke to Theobald.',\n",
       " 'He knew that you were coming.”  “How?”  Alleras nodded at the glass candle.',\n",
       " 'Sam stared at the strange pale flame for a moment, then blinked and looked away.',\n",
       " 'Outside the window it was growing dark.',\n",
       " '“There’s an empty sleeping cell under mine in the west tower, with steps that lead right up to Walgrave’s chambers,” said the pasty-faced youth.',\n",
       " '“If you don’t mind the ravens quorking, there’s a good view of the Honeywine.',\n",
       " 'Will that serve?”  “I suppose.” He had to sleep somewhere.',\n",
       " '“I will bring you some woolen coverlets.',\n",
       " 'Stone walls turn cold at night, even here.”  “My thanks.” There was something about the pale, soft youth that he misliked, but he did not want to seem discourteous, so he added, “My name’s not Slayer, truly.',\n",
       " 'I’m Sam.',\n",
       " 'Samwell Tarly.”  “I’m Pate,” the other said, “like the pig boy.']"
      ]
     },
     "execution_count": 12,
     "metadata": {},
     "output_type": "execute_result"
    }
   ],
   "source": [
    "\n",
    "book_series[\"book4\"][-100:]"
   ]
  },
  {
   "cell_type": "code",
   "execution_count": 13,
   "metadata": {},
   "outputs": [
    {
     "data": {
      "text/plain": [
       "['As Ser Kevan made his way across the inner ward, the castle seemed an alien place, where every keep and tower had grown icy teeth, and all familiar paths had vanished beneath a white blanket.',\n",
       " 'Once an icicle long as a spear fell to shatter by his feet.',\n",
       " 'Autumn in King’s Landing, he brooded.',\n",
       " 'What must it be like up on the Wall?',\n",
       " 'The door was opened by a serving girl, a skinny thing in a fur-lined robe much too big for her.',\n",
       " 'Ser Kevan stamped the snow off his boots, removed his cloak, tossed it to her.',\n",
       " '“The Grand Maester is expecting me,” he announced.',\n",
       " 'The girl nodded, solemn and silent, and pointed to the steps.',\n",
       " 'Pycelle’s chambers were beneath the rookery, a spacious suite of rooms cluttered with racks of herbs and salves and potions and shelves jammed full of books and scrolls.',\n",
       " 'Ser Kevan had always found them uncomfortably hot.',\n",
       " 'Not tonight.',\n",
       " 'Once past the chamber door, the chill was palpable.',\n",
       " 'Black ash and dying embers were all that remained of the hearthfire.',\n",
       " 'A few flickering candles cast pools of dim light here and there.',\n",
       " 'The rest was shrouded in shadow … except beneath the open window, where a spray of ice crystals glittered in the moonlight, swirling in the wind.',\n",
       " 'On the window seat a raven loitered, pale, huge, its feathers ruffled.',\n",
       " 'It was the largest raven that Kevan Lannister had ever seen.',\n",
       " 'Larger than any hunting hawk at Casterly Rock, larger than the largest owl.',\n",
       " 'Blowing snow danced around it, and the moon painted it silver.',\n",
       " 'Not silver.',\n",
       " 'White.',\n",
       " 'The bird is white.',\n",
       " 'The white ravens of the Citadel did not carry messages, as their dark cousins did.',\n",
       " 'When they went forth from Oldtown, it was for one purpose only: to herald a change of seasons.',\n",
       " '“Winter,” said Ser Kevan.',\n",
       " 'The word made a white mist in the air.',\n",
       " 'He turned away from the window.',\n",
       " 'Then something slammed him in the chest between the ribs, hard as a giant’s fist.',\n",
       " 'It drove the breath from him and sent him lurching backwards.',\n",
       " 'The white raven took to the air, its pale wings slapping him about the head.',\n",
       " 'Ser Kevan half-sat and half-fell onto the window seat.',\n",
       " 'What … who … A quarrel was sunk almost to the fletching in his chest.',\n",
       " 'No.',\n",
       " 'No, that was how my brother died.',\n",
       " 'Blood was seeping out around the shaft.',\n",
       " '“Pycelle,” he muttered, confused.',\n",
       " '“Help me … I …”  Then he saw.',\n",
       " 'Grand Maester Pycelle was seated at his table, his head pillowed on the great leather-bound tome before him.',\n",
       " 'Sleeping, Kevan thought … until he blinked and saw the deep red gash in the old man’s spotted skull and the blood pooled beneath his head, staining the pages of his book.',\n",
       " 'All around his candle were bits of bone and brain, islands in a lake of melted wax.',\n",
       " 'He wanted guards, Ser Kevan thought.',\n",
       " 'I should have sent him guards.',\n",
       " 'Could Cersei have been right all along?',\n",
       " 'Was this his nephew’s work?',\n",
       " '“Tyrion?” he called.',\n",
       " '“Where …?”  “Far away,” a half-familiar voice replied.',\n",
       " 'He stood in a pool of shadow by a bookcase, plump, pale-faced, round-shouldered, clutching a crossbow in soft powdered hands.',\n",
       " 'Silk slippers swaddled his feet.',\n",
       " '“Varys?”  The eunuch set the crossbow down.',\n",
       " '“Ser Kevan.',\n",
       " 'Forgive me if you can.',\n",
       " 'I bear you no ill will.',\n",
       " 'This was not done from malice.',\n",
       " 'It was for the realm.',\n",
       " 'For the children.”  I have children.',\n",
       " 'I have a wife.',\n",
       " 'Oh, Dorna.',\n",
       " 'Pain washed over him.',\n",
       " 'He closed his eyes, opened them again.',\n",
       " '“There are … there are hundreds of Lannister guardsmen in this castle.”  “But none in this room, thankfully.',\n",
       " 'This pains me, my lord.',\n",
       " 'You do not deserve to die alone on such a cold dark night.',\n",
       " 'There are many like you, good men in service to bad causes … but you were threatening to undo all the queen’s good work, to reconcile Highgarden and Casterly Rock, bind the Faith to your little king, unite the Seven Kingdoms under Tommen’s rule.',\n",
       " 'So …”  A gust of wind blew up.',\n",
       " 'Ser Kevan shivered violently.',\n",
       " '“Are you cold, my lord?” asked Varys.',\n",
       " '“Do forgive me.',\n",
       " 'The Grand Maester befouled himself in dying, and the stink was so abominable that I thought I might choke.”  Ser Kevan tried to rise, but the strength had left him.',\n",
       " 'He could not feel his legs.',\n",
       " '“I thought the crossbow fitting.',\n",
       " 'You shared so much with Lord Tywin, why not that?',\n",
       " 'Your niece will think the Tyrells had you murdered, mayhaps with the connivance of the Imp.',\n",
       " 'The Tyrells will suspect her.',\n",
       " 'Someone somewhere will find a way to blame the Dornishmen.',\n",
       " 'Doubt, division, and mistrust will eat the very ground beneath your boy king, whilst Aegon raises his banner above Storm’s End and the lords of the realm gather round him.”  “Aegon?” For a moment he did not understand.',\n",
       " 'Then he remembered.',\n",
       " 'A babe swaddled in a crimson cloak, the cloth stained with his blood and brains.',\n",
       " '“Dead.',\n",
       " 'He’s dead.”  “No.” The eunuch’s voice seemed deeper.',\n",
       " '“He is here.',\n",
       " 'Aegon has been shaped for rule since before he could walk.',\n",
       " 'He has been trained in arms, as befits a knight to be, but that was not the end of his education.',\n",
       " 'He reads and writes, he speaks several tongues, he has studied history and law and poetry.',\n",
       " 'A septa has instructed him in the mysteries of the Faith since he was old enough to understand them.',\n",
       " 'He has lived with fisherfolk, worked with his hands, swum in rivers and mended nets and learned to wash his own clothes at need.',\n",
       " 'He can fish and cook and bind up a wound, he knows what it is like to be hungry, to be hunted, to be afraid.',\n",
       " 'Tommen has been taught that kingship is his right.',\n",
       " 'Aegon knows that kingship is his duty, that a king must put his people first, and live and rule for them.”  Kevan Lannister tried to cry out … to his guards, his wife, his brother … but the words would not come.',\n",
       " 'Blood dribbled from his mouth.',\n",
       " 'He shuddered violently.',\n",
       " '“I am sorry.” Varys wrung his hands.',\n",
       " '“You are suffering, I know, yet here I stand going on like some silly old woman.',\n",
       " 'Time to make an end to it.” The eunuch pursed his lips and gave a little whistle.',\n",
       " 'Ser Kevan was cold as ice, and every labored breath sent a fresh stab of pain through him.',\n",
       " 'He glimpsed movement, heard the soft scuffling sound of slippered feet on stone.',\n",
       " 'A child emerged from a pool of darkness, a pale boy in a ragged robe, no more than nine or ten.',\n",
       " 'Another rose up behind the Grand Maester’s chair.',\n",
       " 'The girl who had opened the door for him was there as well.',\n",
       " 'They were all around him, half a dozen of them, white-faced children with dark eyes, boys and girls together.',\n",
       " 'And in their hands, the daggers.']"
      ]
     },
     "execution_count": 13,
     "metadata": {},
     "output_type": "execute_result"
    }
   ],
   "source": [
    "book_series[\"book5\"][-100:]"
   ]
  },
  {
   "cell_type": "markdown",
   "metadata": {},
   "source": [
    "## Below Function is taken directly form Harry Potter project\n",
    "+ Let me know if you guys want access to the git\n",
    "+ I need to add common words file to git, as in Potter project\n"
   ]
  },
  {
   "cell_type": "code",
   "execution_count": 14,
   "metadata": {},
   "outputs": [],
   "source": [
    "\n",
    "def name_entity_recognition(sentence):\n",
    "    '''\n",
    "    A function to retrieve name entities in a sentence.\n",
    "    :param sentence: the sentence to retrieve names from.\n",
    "    :return: a name entity list of the sentence.\n",
    "    '''\n",
    "\n",
    "    doc = nlp(sentence)\n",
    "    # retrieve person and organization's name from the sentence\n",
    "    name_entity = [x for x in doc.ents if x.label_ in ['PERSON', 'ORG']]\n",
    "    # convert all names to lowercase and remove 's in names\n",
    "    name_entity = [str(x).lower().replace(\"'s\",\"\") for x in name_entity]\n",
    "    # split names into single words ('Harry Potter' -> ['Harry', 'Potter'])\n",
    "    name_entity = [x.split(' ') for x in name_entity]\n",
    "    # flatten the name list\n",
    "    name_entity = flatten(name_entity)\n",
    "    # remove name words that are less than 3 letters to raise recognition accuracy\n",
    "    name_entity = [x for x in name_entity if len(x) >= 3]\n",
    "    # remove name words that are in the set of 4000 common words\n",
    "    name_entity = [x for x in name_entity if x not in words]\n",
    "\n",
    "    return name_entity\n",
    "\n"
   ]
  },
  {
   "cell_type": "code",
   "execution_count": null,
   "metadata": {},
   "outputs": [],
   "source": []
  }
 ],
 "metadata": {
  "kernelspec": {
   "display_name": "Python 3",
   "language": "python",
   "name": "python3"
  },
  "language_info": {
   "codemirror_mode": {
    "name": "ipython",
    "version": 3
   },
   "file_extension": ".py",
   "mimetype": "text/x-python",
   "name": "python",
   "nbconvert_exporter": "python",
   "pygments_lexer": "ipython3",
   "version": "3.7.1"
  },
  "latex_envs": {
   "LaTeX_envs_menu_present": true,
   "autoclose": false,
   "autocomplete": true,
   "bibliofile": "biblio.bib",
   "cite_by": "apalike",
   "current_citInitial": 1,
   "eqLabelWithNumbers": true,
   "eqNumInitial": 1,
   "hotkeys": {
    "equation": "Ctrl-E",
    "itemize": "Ctrl-I"
   },
   "labels_anchors": false,
   "latex_user_defs": false,
   "report_style_numbering": false,
   "user_envs_cfg": false
  },
  "toc": {
   "base_numbering": 1,
   "nav_menu": {},
   "number_sections": true,
   "sideBar": true,
   "skip_h1_title": false,
   "title_cell": "Table of Contents",
   "title_sidebar": "Contents",
   "toc_cell": false,
   "toc_position": {},
   "toc_section_display": true,
   "toc_window_display": false
  },
  "varInspector": {
   "cols": {
    "lenName": 16,
    "lenType": 16,
    "lenVar": 40
   },
   "kernels_config": {
    "python": {
     "delete_cmd_postfix": "",
     "delete_cmd_prefix": "del ",
     "library": "var_list.py",
     "varRefreshCmd": "print(var_dic_list())"
    },
    "r": {
     "delete_cmd_postfix": ") ",
     "delete_cmd_prefix": "rm(",
     "library": "var_list.r",
     "varRefreshCmd": "cat(var_dic_list()) "
    }
   },
   "position": {
    "height": "672.646px",
    "left": "2402px",
    "right": "20px",
    "top": "120px",
    "width": "350px"
   },
   "types_to_exclude": [
    "module",
    "function",
    "builtin_function_or_method",
    "instance",
    "_Feature"
   ],
   "window_display": true
  }
 },
 "nbformat": 4,
 "nbformat_minor": 2
}
